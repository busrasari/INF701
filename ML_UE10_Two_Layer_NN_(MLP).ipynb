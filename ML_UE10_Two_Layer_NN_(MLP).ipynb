{
  "nbformat": 4,
  "nbformat_minor": 0,
  "metadata": {
    "coursera": {
      "course_slug": "neural-networks-deep-learning",
      "graded_item_id": "c4HO0",
      "launcher_item_id": "lSYZM"
    },
    "kernelspec": {
      "display_name": "Python 3",
      "language": "python",
      "name": "python3"
    },
    "language_info": {
      "codemirror_mode": {
        "name": "ipython",
        "version": 3
      },
      "file_extension": ".py",
      "mimetype": "text/x-python",
      "name": "python",
      "nbconvert_exporter": "python",
      "pygments_lexer": "ipython3",
      "version": "3.6.0"
    },
    "colab": {
      "name": "ML-UE10-Two Layer NN (MLP).ipynb",
      "provenance": [],
      "collapsed_sections": [
        "YQhG4GKSY5I2",
        "vB7xY4pDZKs2",
        "ODjzBS_PZhoc",
        "Ap78YUWHZ_hv",
        "VFf3Zt7fapah"
      ]
    }
  },
  "cells": [
    {
      "cell_type": "markdown",
      "metadata": {
        "id": "cZvfzID2ROXj"
      },
      "source": [
        "# Ein zwei-schichtiges Neurales Netzwerk: Schritt für Schritt #\n",
        "\n",
        "In dieesm Notebook werden Sie ein tiefes neuronales Netzwerk mit zwei Schichten für die Klassifizierung von Bildern implementieren.\n",
        "\n",
        "Das Modell soll die folgende Struktur haben:<br>\n",
        "*LINEAR -> RELU -> LINEAR -> SIGMOID*."
      ]
    },
    {
      "cell_type": "markdown",
      "metadata": {
        "id": "E_9ZljWLROXk"
      },
      "source": [
        "## 1 - Imports"
      ]
    },
    {
      "cell_type": "code",
      "metadata": {
        "collapsed": true,
        "id": "xV6IT6HKROXl",
        "colab": {
          "base_uri": "https://localhost:8080/"
        },
        "outputId": "ff7a16bd-3654-4a94-e131-83406f067697"
      },
      "source": [
        "import numpy as np\n",
        "import h5py\n",
        "import scipy\n",
        "import matplotlib.pyplot as plt\n",
        "from PIL import Image\n",
        "from scipy import ndimage\n",
        "\n",
        "%matplotlib inline\n",
        "plt.rcParams['figure.figsize'] = (5.0, 4.0) # set default size of plots\n",
        "plt.rcParams['image.interpolation'] = 'nearest'\n",
        "plt.rcParams['image.cmap'] = 'gray'\n",
        "\n",
        "%load_ext autoreload\n",
        "%autoreload 2\n",
        "\n",
        "np.random.seed(1)"
      ],
      "execution_count": null,
      "outputs": [
        {
          "output_type": "stream",
          "text": [
            "The autoreload extension is already loaded. To reload it, use:\n",
            "  %reload_ext autoreload\n"
          ],
          "name": "stdout"
        }
      ]
    },
    {
      "cell_type": "markdown",
      "metadata": {
        "id": "jkFbMxjmZtJh"
      },
      "source": [
        "## 2 - Hilfsfunktionen##\n",
        "Aktivierungsfunktionen (Forwärts and Rückwärts)."
      ]
    },
    {
      "cell_type": "code",
      "metadata": {
        "id": "aYSGlmfoZyde"
      },
      "source": [
        "def sigmoid(Z):\n",
        "    \"\"\"\n",
        "    Implements the sigmoid activation in numpy \n",
        "    Arguments:\n",
        "      Z -- numpy array of any shape\n",
        "    Returns:\n",
        "      A -- output of sigmoid(z), same shape as Z\n",
        "    \"\"\"\n",
        "    A = 1/(1+np.exp(-Z))\n",
        "    \n",
        "    return A\n",
        "\n",
        "def relu(Z):\n",
        "    \"\"\"\n",
        "    Implement the RELU function.\n",
        "    Arguments:\n",
        "      Z -- Output of the linear layer, of any shape\n",
        "    Returns:\n",
        "      A -- Post-activation parameter, of the same shape as Z\n",
        "    \"\"\"\n",
        "    A = np.maximum(0,Z)\n",
        "    assert(A.shape == Z.shape)\n",
        "\n",
        "    return A\n",
        "\n",
        "\n",
        "def relu_backward(dA, Z):\n",
        "    \"\"\"\n",
        "    Implement the backward propagation for a single RELU unit.\n",
        "    Arguments:\n",
        "      dA -- post-activation gradient, of any shape\n",
        "      Z -- input of the relu(Z) during the forward propagation (computed and stored to be used in backprop)\n",
        "    Returns:\n",
        "      dZ -- Partial derivative of the cost with respect to Z\n",
        "    \"\"\"\n",
        "    dZ = np.array(dA, copy=True)  # just converting dz to a correct object.\n",
        "    dZ[Z <= 0] = 0                # When z <= 0, you should set dz to 0 as well. \n",
        "    assert (dZ.shape == Z.shape)\n",
        "    \n",
        "    return dZ\n",
        "\n",
        "def sigmoid_backward(dA, Z):\n",
        "    \"\"\"\n",
        "    Implement the backward propagation for a single SIGMOID unit.\n",
        "    Arguments:\n",
        "      dA -- post-activation gradient, of any shape\n",
        "      Z -- input of the relu(Z) during the forward propagation (computed and stored to be used in backprop)\n",
        "    Returns:\n",
        "      dZ -- Partial derivative of the cost with respect to Z\n",
        "    \"\"\"\n",
        "    s = 1/(1+np.exp(-Z))\n",
        "    dZ = dA * s * (1-s)\n",
        "    assert (dZ.shape == Z.shape)\n",
        "    \n",
        "    return dZ"
      ],
      "execution_count": null,
      "outputs": []
    },
    {
      "cell_type": "markdown",
      "metadata": {
        "id": "9Cm-mLsvXHIn"
      },
      "source": [
        "## 3 - Das Laden und Aufbereıten der Daten  ##\n",
        "\n",
        "Ihr Datensatz (train_catvnoncat.h5 und test_catvnoncat.h5) enthält:\n",
        "- m_train Trainingsbilder, \n",
        "- m_test Testbiler,\n",
        "\n",
        "die alle mit \"Katze\" (y=1) oder \"nicht-Katze\" (y=0) markiert sind.\n",
        "\n",
        "Jedes Bild hat das Format (num_px, num_px, 3), wobei 3 für die 3 Farbkanäle (RGB) steht. Somit sind die Bilder quadratisch mit (height = num_px) und (width = num_px).\n",
        "\n",
        "Stellen Sie sicher, dass die Daten im selben Ordner wie das Notebook liegen, oder passen Sie den Pfad entsprechend an. "
      ]
    },
    {
      "cell_type": "code",
      "metadata": {
        "id": "Ukzh9qde6vzs"
      },
      "source": [
        "# Loading the data (cat/non-cat)\n",
        "#train_set_x_orig, train_set_y, test_set_x_orig, test_set_y, classes = load_dataset()\n",
        "train_dataset = h5py.File('train_catvnoncat.h5', \"r\")\n",
        "train_set_x_orig = np.array(train_dataset[\"train_set_x\"][:]) # your train set features\n",
        "train_set_y_orig = np.array(train_dataset[\"train_set_y\"][:]) # your train set labels\n",
        "\n",
        "test_dataset = h5py.File('test_catvnoncat.h5', \"r\")\n",
        "test_set_x_orig = np.array(test_dataset[\"test_set_x\"][:]) # your test set features\n",
        "test_set_y_orig = np.array(test_dataset[\"test_set_y\"][:]) # your test set labels\n",
        "\n",
        "classes = np.array(test_dataset[\"list_classes\"][:]) # the list of classes\n",
        "\n",
        "### Q : What does the h5py file, i.e. the \"train_dataset\" variable, contain exactly? How can we find out?"
      ],
      "execution_count": null,
      "outputs": []
    },
    {
      "cell_type": "code",
      "metadata": {
        "colab": {
          "base_uri": "https://localhost:8080/"
        },
        "id": "ehBKgoUp7Gw2",
        "outputId": "58ce8c7c-4723-4b68-c899-acab5d39e1d3"
      },
      "source": [
        "# Check the shape of train_set_y_orig and test_set_y_orig (labels)\n",
        "print (\"train_set_y_orig shape: \" + str(train_set_y_orig.shape))\n",
        "print (\"test_set_y_orig shape: \" + str(test_set_y_orig.shape))\n",
        "print(\"test_set_y_orig: \" + str(test_set_y_orig))\n",
        "\n",
        "### Q : Is this data set balanced? Are there an equal number of images in both classes?\n",
        "### Q : What problems could arise with an unbalanced dataset?"
      ],
      "execution_count": null,
      "outputs": [
        {
          "output_type": "stream",
          "text": [
            "train_set_y_orig shape: (209,)\n",
            "test_set_y_orig shape: (50,)\n",
            "test_set_y_orig: [1 1 1 1 1 0 1 1 1 1 1 1 1 0 0 1 0 1 1 1 1 0 0 1 1 1 1 0 1 0 1 1 1 1 0 0 0\n",
            " 1 0 0 1 1 1 0 0 0 1 1 1 0]\n"
          ],
          "name": "stdout"
        }
      ]
    },
    {
      "cell_type": "code",
      "metadata": {
        "id": "KtoDXuv-7OKn"
      },
      "source": [
        "# Reshape train_set_y_orig, such that it has the shape (1, m_train)\n",
        "# Reshape test_set_y_orig, such that it has the shape (1, m_test)\n",
        "\n",
        "### START HERE: Replace the \"None\" instances with your code ###\n",
        "train_set_y = train_set_y_orig.reshape((1,train_set_y_orig.shape[0]))\n",
        "test_set_y = test_set_y_orig.reshape((1,test_set_y_orig.shape[0]))\n",
        "### END HERE ###"
      ],
      "execution_count": null,
      "outputs": []
    },
    {
      "cell_type": "code",
      "metadata": {
        "colab": {
          "base_uri": "https://localhost:8080/"
        },
        "id": "Y8723pVm7STm",
        "outputId": "e7c002c5-2bf7-4dbc-ea5e-3a70d5bde0da"
      },
      "source": [
        "# Check the sizes\n",
        "print (\"train_set_y shape: \" + str(train_set_y.shape))\n",
        "print (\"test_set_y shape: \" + str(test_set_y.shape))\n",
        "print(\"test_set_y: \" + str(test_set_y))\n",
        "\n",
        "### Q : What is the difference between the shapes (50,) and (1,50) ?"
      ],
      "execution_count": null,
      "outputs": [
        {
          "output_type": "stream",
          "text": [
            "train_set_y shape: (1, 209)\n",
            "test_set_y shape: (1, 50)\n",
            "test_set_y: [[1 1 1 1 1 0 1 1 1 1 1 1 1 0 0 1 0 1 1 1 1 0 0 1 1 1 1 0 1 0 1 1 1 1 0 0\n",
            "  0 1 0 0 1 1 1 0 0 0 1 1 1 0]]\n"
          ],
          "name": "stdout"
        }
      ]
    },
    {
      "cell_type": "code",
      "metadata": {
        "colab": {
          "base_uri": "https://localhost:8080/",
          "height": 286
        },
        "id": "n13xWOVEqCwX",
        "outputId": "132b42ab-78e5-4e6f-b00e-d566b32f64bd"
      },
      "source": [
        "# Example of the picture at the given index\n",
        "index = 27\n",
        "plt.imshow(train_set_x_orig[index])\n",
        "print (\"y = \" + str(train_set_y[:, index]) + \", it's a '\" + classes[np.squeeze(train_set_y[:, index])].decode(\"utf-8\") +  \"' picture.\")"
      ],
      "execution_count": null,
      "outputs": [
        {
          "output_type": "stream",
          "text": [
            "y = [1], it's a 'cat' picture.\n"
          ],
          "name": "stdout"
        },
        {
          "output_type": "display_data",
          "data": {
            "image/png": "[encoded data removed]",
            "text/plain": [
              "<Figure size 360x288 with 1 Axes>"
            ]
          },
          "metadata": {
            "tags": [],
            "needs_background": "light"
          }
        }
      ]
    },
    {
      "cell_type": "code",
      "metadata": {
        "id": "xYQ9CvTaqJYI"
      },
      "source": [
        "# Explore your dataset \n",
        "m_train = train_x_orig.shape[0]\n",
        "num_px = train_x_orig.shape[1]\n",
        "m_test = test_x_orig.shape[0]\n",
        "\n",
        "print (\"Number of training examples: m_train = \" + str(m_train))\n",
        "print (\"Number of testing examples: m_test = \" + str(m_test))\n",
        "print (\"Height/Width of each image: num_px = \" + str(num_px))\n",
        "print (\"Each image is of size: (\" + str(num_px) + \", \" + str(num_px) + \", 3)\")\n",
        "print (\"train_set_x shape: \" + str(train_set_x_orig.shape))\n",
        "print (\"train_set_y shape: \" + str(train_set_y.shape))\n",
        "print (\"test_set_x shape: \" + str(test_set_x_orig.shape))\n",
        "print (\"test_set_y shape: \" + str(test_set_y.shape))"
      ],
      "execution_count": null,
      "outputs": []
    },
    {
      "cell_type": "code",
      "metadata": {
        "id": "mUf6_NhFqVU9"
      },
      "source": [
        "# Reshape the training and test examples\n",
        "train_x_flatten = train_x_orig.reshape(train_x_orig.shape[0], -1).T   # The \"-1\" makes reshape flatten the remaining dimensions\n",
        "test_x_flatten = test_x_orig.reshape(test_x_orig.shape[0], -1).T"
      ],
      "execution_count": null,
      "outputs": []
    },
    {
      "cell_type": "code",
      "metadata": {
        "colab": {
          "base_uri": "https://localhost:8080/"
        },
        "id": "sV_yVVQtq0jJ",
        "outputId": "00b5c4e6-5a8b-4742-91d8-e3af9ced1cdd"
      },
      "source": [
        "# Check the shapes. 12288 equals 64x64x3, which is the size of one reshaped image vector.\n",
        "print (\"train_set_x_flatten shape: \" + str(train_set_x_flatten.shape))\n",
        "print (\"train_set_y shape: \" + str(train_set_y.shape))\n",
        "print (\"test_set_x_flatten shape: \" + str(test_set_x_flatten.shape))\n",
        "print (\"test_set_y shape: \" + str(test_set_y.shape))\n",
        "print (\"sanity check after reshaping: \" + str(train_set_x_flatten[0:5,0]))"
      ],
      "execution_count": null,
      "outputs": [
        {
          "output_type": "stream",
          "text": [
            "train_set_x_flatten shape: (12288, 209)\n",
            "train_set_y shape: (1, 209)\n",
            "test_set_x_flatten shape: (12288, 50)\n",
            "test_set_y shape: (1, 50)\n",
            "sanity check after reshaping: [17 31 56 22 33]\n"
          ],
          "name": "stdout"
        }
      ]
    },
    {
      "cell_type": "code",
      "metadata": {
        "id": "SGrvX3-aq39o"
      },
      "source": [
        "# Standardize data to have feature values between 0 and 1.\n",
        "train_set_x = train_x_flatten/255.\n",
        "test_set_x = test_x_flatten/255.\n",
        "\n",
        "### Q : Why is standardizing important? What is the purpose?"
      ],
      "execution_count": null,
      "outputs": []
    },
    {
      "cell_type": "markdown",
      "metadata": {
        "id": "vmayLUFQROXm"
      },
      "source": [
        "## 4 - Initialisierung der Parameter\n",
        "\n",
        "Implementieren Sie die Funktion `initialize_parameters`, das die Parameter des zwei-schichtigen Netzwerkes initialisieren wird. Die Anzahl der Zellen in den einzelnen Schichten werden dieser Funktion als Eingabe übergeben; diese Zahlen bestimmen eindeutig die Dimensionen der Parameter-Matrizen.\n",
        "\n",
        "- Verwenden Sie zufällige Initialisierung für die Gewichte: `np.random.randn(shape)*0.01` mit dem richtigen \"shape\".\n",
        "- Verwenden Sie Null-Initialisierung für die Bias-Terme : `np.zeros(shape)`.\n"
      ]
    },
    {
      "cell_type": "code",
      "metadata": {
        "collapsed": true,
        "id": "UnGADNdCROXm"
      },
      "source": [
        "def initialize_parameters(n_x, n_h, n_y):\n",
        "    \"\"\"\n",
        "    Argument:\n",
        "    n_x -- size of the input layer\n",
        "    n_h -- size of the hidden layer\n",
        "    n_y -- size of the output layer\n",
        "    \n",
        "    Returns:\n",
        "    parameters -- python dictionary containing your parameters:\n",
        "                    W1 -- weight matrix of shape (n_h, n_x)\n",
        "                    b1 -- bias vector of shape (n_h, 1)\n",
        "                    W2 -- weight matrix of shape (n_y, n_h)\n",
        "                    b2 -- bias vector of shape (n_y, 1)\n",
        "    \"\"\"\n",
        "    \n",
        "    np.random.seed(1)\n",
        "    \n",
        "    ### START HERE: Replace the \"None\" instances with your code ###\n",
        "    W1 = None\n",
        "    b1 = None\n",
        "    W2 = None\n",
        "    b2 = None\n",
        "    ### END CODE HERE ###\n",
        "    \n",
        "    assert(W1.shape == (n_h, n_x))\n",
        "    assert(b1.shape == (n_h, 1))\n",
        "    assert(W2.shape == (n_y, n_h))\n",
        "    assert(b2.shape == (n_y, 1))\n",
        "    \n",
        "    parameters = {\"W1\": W1,\n",
        "                  \"b1\": b1,\n",
        "                  \"W2\": W2,\n",
        "                  \"b2\": b2}\n",
        "    \n",
        "    return parameters   \n",
        "\n",
        "### Q : How can you modify this function, so that it can be used for DNNs with more than one hidden layer?\n",
        "### Q : Why is it not a good idea to use zero initialization for the weight matrices? (Hint: symmetry braking) "
      ],
      "execution_count": null,
      "outputs": []
    },
    {
      "cell_type": "markdown",
      "metadata": {
        "id": "YQhG4GKSY5I2"
      },
      "source": [
        "### Test your code"
      ]
    },
    {
      "cell_type": "code",
      "metadata": {
        "scrolled": true,
        "id": "0-WjXB2LROXn",
        "colab": {
          "base_uri": "https://localhost:8080/"
        },
        "outputId": "7ac20870-f65d-4317-dc9f-c003645abc24"
      },
      "source": [
        "parameters = initialize_parameters(3,2,1)\n",
        "print(\"W1 = \" + str(parameters[\"W1\"]))\n",
        "print(\"b1 = \" + str(parameters[\"b1\"]))\n",
        "print(\"W2 = \" + str(parameters[\"W2\"]))\n",
        "print(\"b2 = \" + str(parameters[\"b2\"]))"
      ],
      "execution_count": null,
      "outputs": [
        {
          "output_type": "stream",
          "text": [
            "W1 = [[ 0.01624345 -0.00611756 -0.00528172]\n",
            " [-0.01072969  0.00865408 -0.02301539]]\n",
            "b1 = [[0.]\n",
            " [0.]]\n",
            "W2 = [[ 0.01744812 -0.00761207]]\n",
            "b2 = [[0.]]\n"
          ],
          "name": "stdout"
        }
      ]
    },
    {
      "cell_type": "markdown",
      "metadata": {
        "id": "fyJPz7V0ROXp"
      },
      "source": [
        "**Expected output**:\n",
        "       \n",
        "<table style=\"width:80%\">\n",
        "  <tr>\n",
        "    <td> **W1** </td>\n",
        "    <td> [[ 0.01624345 -0.00611756 -0.00528172]\n",
        " [-0.01072969  0.00865408 -0.02301539]] </td> \n",
        "  </tr>\n",
        "\n",
        "  <tr>\n",
        "    <td> **b1**</td>\n",
        "    <td>[[ 0.]\n",
        " [ 0.]]</td> \n",
        "  </tr>\n",
        "  \n",
        "  <tr>\n",
        "    <td>**W2**</td>\n",
        "    <td> [[ 0.01744812 -0.00761207]]</td>\n",
        "  </tr>\n",
        "  \n",
        "  <tr>\n",
        "    <td> **b2** </td>\n",
        "    <td> [[ 0.]] </td> \n",
        "  </tr>\n",
        "  \n",
        "</table>"
      ]
    },
    {
      "cell_type": "markdown",
      "metadata": {
        "id": "AHOQU5yVROXr"
      },
      "source": [
        "## 5 - Forward propagation ##\n",
        "Implementäeren Sie eine Schicht der Forwärtspropagation, i.e. eine Linearkonbination gefolgt von einer Activierung: \"[LINEAR->ACTIVATION]\".\n",
        "\n",
        "**Bemerkung**: In Deep Learning wird die \"[LINEAR->ACTIVATION]\" Berechnung als eine Schicht im Netzwerk betrachtet. \n",
        "\n",
        "Die mathematische Formulierung dieses Schrittes ist\n",
        "\n",
        "$$Z^{[l]} = W^{[l]}A^{[l-1]} +b^{[l]}$$\n",
        "\n",
        "$$A^{[l]} = g(Z^{[l]})$$\n",
        "\n",
        "wobei \"g()\" die Aktivierungsfunktion ist und zum Beispiel sigmoid() oder relu() sein kann. Wir stellen die Implementierungen dieser Aktivierungsfunktionen für Sie bereit (siehe: Hilfsfunktionen).\n",
        "\n",
        "Die Funktion `np.dot()` könnte auch hilfreich sein. Wenn die Dimensionen nicht stimmen sollten, könnte das Ausgeben von `W.shape` helfen."
      ]
    },
    {
      "cell_type": "code",
      "metadata": {
        "collapsed": true,
        "id": "hnOC5ZDdROX4"
      },
      "source": [
        "def forward_step(A_prev, W, b, activation):\n",
        "    \"\"\"\n",
        "    Implement the forward propagation step for the LINEAR->ACTIVATION layer\n",
        "\n",
        "    Arguments:\n",
        "    A_prev -- activations from previous layer (or input data): (size of previous layer, number of examples)\n",
        "    W -- weights matrix: numpy array of shape (size of current layer, size of previous layer)\n",
        "    b -- bias vector, numpy array of shape (size of the current layer, 1)\n",
        "    activation -- the activation to be used in this layer, stored as a text string: \"sigmoid\" or \"relu\"\n",
        "\n",
        "    Returns:\n",
        "    A -- the output of the activation function, also called the post-activation value \n",
        "    cache -- a python tuple containing A_prev, W, b, Z;\n",
        "             stored for computing the backward pass efficiently\n",
        "    \"\"\"\n",
        "    \n",
        "    ### START HERE: Replace the \"None\" instances with your code ###\n",
        "    \n",
        "    # The linear part of a layer's forward propagation.\n",
        "    Z = None\n",
        "\n",
        "    assert(Z.shape == (W.shape[0], A_prev.shape[1]))\n",
        "    linear_cache = (A_prev, W, b)\n",
        "\n",
        "    # The none-linear part\n",
        "    if activation == \"sigmoid\":\n",
        "        None\n",
        "    \n",
        "    elif activation == \"relu\":   \n",
        "        None\n",
        "        \n",
        "    ### END CODE HERE ###\n",
        "    \n",
        "    assert (A.shape == (W.shape[0], A_prev.shape[1]))\n",
        "    cache = (A_prev, W, b, Z)\n",
        "\n",
        "    return A, cache"
      ],
      "execution_count": null,
      "outputs": []
    },
    {
      "cell_type": "markdown",
      "metadata": {
        "id": "vB7xY4pDZKs2"
      },
      "source": [
        "### Test your code ###"
      ]
    },
    {
      "cell_type": "code",
      "metadata": {
        "id": "8haTPuzsROX5",
        "colab": {
          "base_uri": "https://localhost:8080/"
        },
        "outputId": "a8a1faa3-cf8b-4b40-978e-5fb8b396a68a"
      },
      "source": [
        "np.random.seed(2)\n",
        "A_prev = np.random.randn(3,2)\n",
        "W = np.random.randn(1,3)\n",
        "b = np.random.randn(1,1)\n",
        "\n",
        "A, cache = forward_step(A_prev, W, b, activation = \"sigmoid\")\n",
        "print(\"With sigmoid: A = \" + str(A))\n",
        "\n",
        "A, cache = forward_step(A_prev, W, b, activation = \"relu\")\n",
        "print(\"With ReLU: A = \" + str(A))"
      ],
      "execution_count": null,
      "outputs": [
        {
          "output_type": "stream",
          "text": [
            "With sigmoid: A = [[0.96890023 0.11013289]]\n",
            "With ReLU: A = [[3.43896131 0.        ]]\n"
          ],
          "name": "stdout"
        }
      ]
    },
    {
      "cell_type": "markdown",
      "metadata": {
        "id": "3mtbMP6jROX5"
      },
      "source": [
        "**Expected output**:\n",
        "       \n",
        "<table style=\"width:35%\">\n",
        "  <tr>\n",
        "    <td> **With sigmoid: A ** </td>\n",
        "    <td > [[ 0.96890023  0.11013289]]</td> \n",
        "  </tr>\n",
        "  <tr>\n",
        "    <td> **With ReLU: A ** </td>\n",
        "    <td > [[ 3.43896131  0.        ]]</td> \n",
        "  </tr>\n",
        "</table>\n"
      ]
    },
    {
      "cell_type": "markdown",
      "metadata": {
        "id": "lDXl8mNqROX8"
      },
      "source": [
        "## 6 - Kostenfunktion\n",
        "\n",
        "Berechnen Sie die Cross-Entropy Kosten $J$ mit Hilfe der folgenden Formel: $$-\\frac{1}{m} \\sum\\limits_{i = 1}^{m} (y^{(i)}\\log\\left(a^{[L] (i)}\\right) + (1-y^{(i)})\\log\\left(1- a^{[L](i)}\\right)) \\tag{1}$$\n",
        "\n",
        "Sie müssen die Kosten berechnen und verfolgen um sicherzustellen, dass die Kosten sinken und das Modell tatsächlich \"lernt\".\n"
      ]
    },
    {
      "cell_type": "code",
      "metadata": {
        "collapsed": true,
        "id": "34hdbcH2ROX8"
      },
      "source": [
        "def compute_cost(AL, Y):\n",
        "    \"\"\"\n",
        "    Implement the cost function defined by equation (7).\n",
        "\n",
        "    Arguments:\n",
        "    AL -- probability vector corresponding to your label predictions, shape (1, number of examples)\n",
        "    Y -- true \"label\" vector (for example: containing 0 if non-cat, 1 if cat), shape (1, number of examples)\n",
        "\n",
        "    Returns:\n",
        "    cost -- cross-entropy cost\n",
        "    \"\"\"\n",
        "    \n",
        "    m = Y.shape[1]  # number of examples\n",
        "\n",
        "    ### START HERE: Replace the \"None\" instances with your code ###\n",
        "    \n",
        "    # Compute loss from aL and y.\n",
        "    cost = None\n",
        "    ### END CODE HERE ###\n",
        "    \n",
        "    cost = np.squeeze(cost)      # To make sure your cost's shape is what we expect (e.g. this turns [[17]] into 17).\n",
        "    assert(cost.shape == ())\n",
        "    \n",
        "    return cost"
      ],
      "execution_count": null,
      "outputs": []
    },
    {
      "cell_type": "markdown",
      "metadata": {
        "id": "ODjzBS_PZhoc"
      },
      "source": [
        "### Test your code"
      ]
    },
    {
      "cell_type": "code",
      "metadata": {
        "id": "mIkSKYKlROX8",
        "colab": {
          "base_uri": "https://localhost:8080/"
        },
        "outputId": "641f85b0-da23-46c2-802f-8ff773d67d09"
      },
      "source": [
        "Y = np.asarray([[1, 1, 1]])\n",
        "AL = np.array([[.8,.9,0.4]])\n",
        "\n",
        "print(\"cost = \" + str(compute_cost(AL, Y)))"
      ],
      "execution_count": null,
      "outputs": [
        {
          "output_type": "stream",
          "text": [
            "cost = 0.41493159961539694\n"
          ],
          "name": "stdout"
        }
      ]
    },
    {
      "cell_type": "markdown",
      "metadata": {
        "id": "vDgzTUBAROX9"
      },
      "source": [
        "**Expected Output**:\n",
        "\n",
        "<table>\n",
        "    <tr>\n",
        "    <td>**cost** </td>\n",
        "    <td> 0.41493159961539694</td> \n",
        "    </tr>\n",
        "</table>"
      ]
    },
    {
      "cell_type": "markdown",
      "metadata": {
        "id": "fueKUh9oROX9"
      },
      "source": [
        "## 7 - Backward propagation\n",
        "\n",
        "Implementieren Sie einen Rückwerts-Schritt für einen *LINEAR->ACTIVATION* Forwärts-Schritt.\n",
        "\n",
        "Die zwei Rückwärts-Funktionen **`sigmoid_backward`** und **`relu_backward`** sollen Ihnen bei der Implementierung von `backward_step` helfen.\n",
        "\n",
        "Die Funktion `backward_step` bekommt als Eingabe folgendes übergeben:\n",
        "- $dA^{[l]}$: der bisherige Teil der \"Kette\" (in der Kettenregel) ausgewertet,\n",
        "- $A^{[l-1]}, W^{[l]}, b^{[l]}, Z^{[l]}$: die im \"cache\" gespeicherten Werte, die im Forwärtsschritt berechnet wurden, \n",
        "- die AKtivierung der aktuellen Schicht.\n",
        "\n",
        "Die Funktion berechnet folgende partiellen Ableitungen, die den aktuellen Teil der \"Kette\" bilden. $g(.)$ ist die Aktivaierungsfunktion der aktuellen Schicht, entsprechend ist $g'$ entweder `sigmoid_backward` oder `relu_backward`.\n",
        "\n",
        "$$dZ^{[l]} := \\frac{\\partial \\mathcal{J} }{\\partial Z^{[l]}} = dA^{[l]} * g'(Z^{[l]}) \\tag{2}$$<br>\n",
        "\n",
        "$$ dW^{[l]} := \\frac{\\partial \\mathcal{J} }{\\partial W^{[l]}} = \\frac{1}{m} dZ^{[l]} A^{[l-1] T} \\tag{3}$$<br>\n",
        "\n",
        "$$ db^{[l]} := \\frac{\\partial \\mathcal{J} }{\\partial b^{[l]}} = \\frac{1}{m} \\sum_{i = 1}^{m} dZ^{[l](i)}\\tag{4}$$<br>\n",
        "\n",
        "$$ dA^{[l-1]} := \\frac{\\partial \\mathcal{L} }{\\partial A^{[l-1]}} = W^{[l] T} dZ^{[l]} \\tag{5}$$<br>\n",
        "\n",
        "Die Funktion soll folgendes zurückgeben:\n",
        "- $dA^{[l-1]}$, für den nächsten Rückwärtschritt, \n",
        "- $dW^{[l]} \\quad$ und $\\quad db^{[l]} \\quad$ für die Parameter-Aktualisirungen.\n",
        "\n",
        "\n",
        "<!-- \n",
        "For those of you who are expert in calculus (you don't need to be to do this assignment), the chain rule of calculus can be used to derive the derivative of the loss $\\mathcal{L}$ with respect to $z^{[1]}$ in a 2-layer network as follows:\n",
        "\n",
        "$$\\frac{d \\mathcal{L}(a^{[2]},y)}{{dz^{[1]}}} = \\frac{d\\mathcal{L}(a^{[2]},y)}{{da^{[2]}}}\\frac{{da^{[2]}}}{{dz^{[2]}}}\\frac{{dz^{[2]}}}{{da^{[1]}}}\\frac{{da^{[1]}}}{{dz^{[1]}}} \\tag{8} $$\n",
        "\n",
        "In order to calculate the gradient $dW^{[1]} = \\frac{\\partial L}{\\partial W^{[1]}}$, you use the previous chain rule and you do $dW^{[1]} = dz^{[1]} \\times \\frac{\\partial z^{[1]} }{\\partial W^{[1]}}$. During the backpropagation, at each step you multiply your current gradient by the gradient corresponding to the specific layer to get the gradient you wanted.\n",
        "\n",
        "Equivalently, in order to calculate the gradient $db^{[1]} = \\frac{\\partial L}{\\partial b^{[1]}}$, you use the previous chain rule and you do $db^{[1]} = dz^{[1]} \\times \\frac{\\partial z^{[1]} }{\\partial b^{[1]}}$.\n",
        "\n",
        "This is why we talk about **backpropagation**.\n",
        "!-->"
      ]
    },
    {
      "cell_type": "code",
      "metadata": {
        "collapsed": true,
        "id": "cRUT2t_zROX-"
      },
      "source": [
        "def backward_step(dA, cache, activation):\n",
        "    \"\"\"\n",
        "    Implement the backward propagation for the LINEAR->ACTIVATION layer.\n",
        "    \n",
        "    Arguments:\n",
        "    dA -- post-activation gradient for current layer l \n",
        "    cache -- tuple of values (A_prev, W, b, Z) we stored for computing backward propagation efficiently\n",
        "    activation -- the activation to be used in this layer, stored as a text string: \"sigmoid\" or \"relu\"\n",
        "    \n",
        "    Returns:\n",
        "    dA_prev -- Gradient of the cost with respect to the activation (of the previous layer l-1), same shape as A_prev\n",
        "    dW -- Gradient of the cost with respect to W (current layer l), same shape as W\n",
        "    db -- Gradient of the cost with respect to b (current layer l), same shape as b\n",
        "    \"\"\"\n",
        "    A_prev, W, b, Z = cache\n",
        "    m = A_prev.shape[1]\n",
        "\n",
        "    ### START HERE: Replace the \"None\" instances with your code ###\n",
        "\n",
        "    # The non-linear backward part\n",
        "    if activation == \"relu\":\n",
        "        dZ = None\n",
        "        \n",
        "    elif activation == \"sigmoid\":\n",
        "        dZ = None\n",
        "    \n",
        "\n",
        "    # The linear backward part\n",
        "    dW = None\n",
        "    db = None\n",
        "    dA_prev = None\n",
        "    \n",
        "    ### END CODE HERE ###\n",
        "    \n",
        "    assert (dA_prev.shape == A_prev.shape)\n",
        "    assert (dW.shape == W.shape)\n",
        "    assert (db.shape == b.shape)\n",
        "    \n",
        "    return dA_prev, dW, db\n",
        "\n",
        "### Q : Give a short explanation of what relu_backward is doing\n",
        "### Q : What happens when the \"axis\" parameter of np.sum is set to 1?"
      ],
      "execution_count": null,
      "outputs": []
    },
    {
      "cell_type": "markdown",
      "metadata": {
        "id": "Ap78YUWHZ_hv"
      },
      "source": [
        "### Test your code"
      ]
    },
    {
      "cell_type": "code",
      "metadata": {
        "id": "O8UkkwEBROX_",
        "colab": {
          "base_uri": "https://localhost:8080/"
        },
        "outputId": "b8305fc6-52de-47eb-c098-10653194ce04"
      },
      "source": [
        "np.random.seed(2)\n",
        "dAL = np.random.randn(1,2)\n",
        "A = np.random.randn(3,2)\n",
        "W = np.random.randn(1,3)\n",
        "b = np.random.randn(1,1)\n",
        "Z = np.random.randn(1,2)\n",
        "cache = (A, W, b, Z)\n",
        "\n",
        "dA_prev, dW, db = backward_step(dAL,cache, activation = \"sigmoid\")\n",
        "print (\"sigmoid:\")\n",
        "print (\"dA_prev = \"+ str(dA_prev))\n",
        "print (\"dW = \" + str(dW))\n",
        "print (\"db = \" + str(db) + \"\\n\")\n",
        "\n",
        "dA_prev, dW, db = backward_step(dAL, cache, activation = \"relu\")\n",
        "print (\"relu:\")\n",
        "print (\"dA_prev = \"+ str(dA_prev))\n",
        "print (\"dW = \" + str(dW))\n",
        "print (\"db = \" + str(db))"
      ],
      "execution_count": null,
      "outputs": [
        {
          "output_type": "stream",
          "text": [
            "sigmoid:\n",
            "dA_prev = [[ 0.11017994  0.01105339]\n",
            " [ 0.09466817  0.00949723]\n",
            " [-0.05743092 -0.00576154]]\n",
            "dW = [[ 0.10266786  0.09778551 -0.01968084]]\n",
            "db = [[-0.05729622]]\n",
            "\n",
            "relu:\n",
            "dA_prev = [[ 0.44090989  0.        ]\n",
            " [ 0.37883606  0.        ]\n",
            " [-0.2298228   0.        ]]\n",
            "dW = [[ 0.44513824  0.37371418 -0.10478989]]\n",
            "db = [[-0.20837892]]\n"
          ],
          "name": "stdout"
        }
      ]
    },
    {
      "cell_type": "markdown",
      "metadata": {
        "id": "85VZkEn9ROX_"
      },
      "source": [
        "**Expected output with sigmoid:**\n",
        "\n",
        "<table style=\"width:100%\">\n",
        "  <tr>\n",
        "    <td > dA_prev </td> \n",
        "           <td >[[ 0.11017994  0.01105339]\n",
        " [ 0.09466817  0.00949723]\n",
        " [-0.05743092 -0.00576154]] </td> \n",
        "  </tr> \n",
        "    <tr>\n",
        "    <td > dW </td> \n",
        "           <td > [[ 0.10266786  0.09778551 -0.01968084]] </td> \n",
        "  </tr> \n",
        "    <tr>\n",
        "    <td > db </td> \n",
        "           <td > [[-0.05729622]] </td> \n",
        "  </tr> \n",
        "</table>\n",
        "\n"
      ]
    },
    {
      "cell_type": "markdown",
      "metadata": {
        "id": "9lD4gcZGROX_"
      },
      "source": [
        "**Expected output with relu:**\n",
        "\n",
        "<table style=\"width:100%\">\n",
        "  <tr>\n",
        "    <td > dA_prev </td> \n",
        "           <td > [[ 0.44090989  0.        ]\n",
        " [ 0.37883606  0.        ]\n",
        " [-0.2298228   0.        ]] </td> \n",
        "  </tr> \n",
        "    <tr>\n",
        "    <td > dW </td> \n",
        "           <td > [[ 0.44513824  0.37371418 -0.10478989]] </td> \n",
        "  </tr> \n",
        "    <tr>\n",
        "    <td > db </td> \n",
        "           <td > [[-0.20837892]] </td> \n",
        "  </tr> \n",
        "</table>\n",
        "\n"
      ]
    },
    {
      "cell_type": "markdown",
      "metadata": {
        "id": "o47XONbCROYA"
      },
      "source": [
        "## 8 - Aktualisierung der Parameter\n",
        "Implementieren Sie die Funktion `update_parameters()`, die mit Hilfe des Gradient Descent Algorithmus die Parameter aktualisiert:\n",
        "\n",
        "$$ W^{[l]} = W^{[l]} - \\alpha \\text{ } dW^{[l]} \\tag{16}$$\n",
        "$$ b^{[l]} = b^{[l]} - \\alpha \\text{ } db^{[l]} \\tag{17}$$\n",
        "\n",
        "wobei $\\alpha$ die Lernrate ist."
      ]
    },
    {
      "cell_type": "code",
      "metadata": {
        "collapsed": true,
        "id": "peuckqV0ROYB"
      },
      "source": [
        "def update_parameters(parameters, grads, learning_rate):\n",
        "    \"\"\"\n",
        "    Update parameters using gradient descent\n",
        "    \n",
        "    Arguments:\n",
        "    parameters -- python dictionary containing your parameters \n",
        "    grads -- python dictionary containing your gradients, output of L_model_backward\n",
        "    \n",
        "    Returns:\n",
        "    parameters -- python dictionary containing your updated parameters \n",
        "                  parameters[\"W\" + str(l)] = ... \n",
        "                  parameters[\"b\" + str(l)] = ...\n",
        "    \"\"\"\n",
        "\n",
        "    ### START HERE: Replace the \"None\" instances with your code ###\n",
        "        parameters[\"W1\"] = None\n",
        "        parameters[\"b1\"] = None\n",
        "        parameters[\"W2\"] = None\n",
        "        parameters[\"b2\"] = None\n",
        "    ### END CODE HERE ###\n",
        "    return parameters"
      ],
      "execution_count": null,
      "outputs": []
    },
    {
      "cell_type": "markdown",
      "metadata": {
        "id": "VFf3Zt7fapah"
      },
      "source": [
        "### Test your code"
      ]
    },
    {
      "cell_type": "code",
      "metadata": {
        "id": "kWPMqeT3ROYC",
        "colab": {
          "base_uri": "https://localhost:8080/"
        },
        "outputId": "70f180b3-c539-4b7d-dcec-df5f87716b62"
      },
      "source": [
        "np.random.seed(2)\n",
        "W1 = np.random.randn(3,4)\n",
        "b1 = np.random.randn(3,1)\n",
        "W2 = np.random.randn(1,3)\n",
        "b2 = np.random.randn(1,1)\n",
        "parameters = {\"W1\": W1, \"b1\": b1, \"W2\": W2, \"b2\": b2}\n",
        "np.random.seed(3)\n",
        "dW1 = np.random.randn(3,4)\n",
        "db1 = np.random.randn(3,1)\n",
        "dW2 = np.random.randn(1,3)\n",
        "db2 = np.random.randn(1,1)\n",
        "grads = {\"dW1\": dW1, \"db1\": db1, \"dW2\": dW2, \"db2\": db2}\n",
        "parameters = update_parameters(parameters, grads, 0.1)\n",
        "\n",
        "print (\"W1 = \"+ str(parameters[\"W1\"]))\n",
        "print (\"b1 = \"+ str(parameters[\"b1\"]))\n",
        "print (\"W2 = \"+ str(parameters[\"W2\"]))\n",
        "print (\"b2 = \"+ str(parameters[\"b2\"]))"
      ],
      "execution_count": null,
      "outputs": [
        {
          "output_type": "stream",
          "text": [
            "W1 = [[-0.59562069 -0.09991781 -2.14584584  1.82662008]\n",
            " [-1.76569676 -0.80627147  0.51115557 -1.18258802]\n",
            " [-1.0535704  -0.86128581  0.68284052  2.20374577]]\n",
            "b1 = [[-0.04659241]\n",
            " [-1.28888275]\n",
            " [ 0.53405496]]\n",
            "W2 = [[-0.55569196  0.0354055   1.32964895]]\n",
            "b2 = [[-0.84610769]]\n"
          ],
          "name": "stdout"
        }
      ]
    },
    {
      "cell_type": "markdown",
      "metadata": {
        "id": "1Gd4aI8mROYC"
      },
      "source": [
        "**Expected Output**:\n",
        "\n",
        "<table style=\"width:100%\"> \n",
        "    <tr>\n",
        "    <td > W1 </td> \n",
        "           <td > [[-0.59562069 -0.09991781 -2.14584584  1.82662008]\n",
        " [-1.76569676 -0.80627147  0.51115557 -1.18258802]\n",
        " [-1.0535704  -0.86128581  0.68284052  2.20374577]] </td> \n",
        "  </tr>\n",
        "    <tr>\n",
        "    <td > b1 </td> \n",
        "           <td > [[-0.04659241]\n",
        " [-1.28888275]\n",
        " [ 0.53405496]] </td> \n",
        "  </tr> \n",
        "  <tr>\n",
        "    <td > W2 </td> \n",
        "           <td > [[-0.55569196  0.0354055   1.32964895]]</td> \n",
        "  </tr> \n",
        "    <tr>\n",
        "    <td > b2 </td> \n",
        "           <td > [[-0.84610769]] </td> \n",
        "  </tr> \n",
        "</table>\n"
      ]
    },
    {
      "cell_type": "code",
      "metadata": {
        "id": "CmdeIQZdpm3a"
      },
      "source": [
        ""
      ],
      "execution_count": null,
      "outputs": []
    },
    {
      "cell_type": "markdown",
      "metadata": {
        "id": "BZbYcbanetEL"
      },
      "source": [
        "### 9 - Das Model ###\n",
        "\n",
        "Implementieren Sie die Funktion `train_model`, das als Eingabe folgende Daten übernimmt\n",
        "- die Trianingsdaten,\n",
        "- die Netzwerkstruktur (Dimensionen und Aktivierungen der einzelnen Schichten)\n",
        "- die Lernrate ($0.0075$ default Wert),\n",
        "- die Anzahl der Iterationen (3000 default Wert),\n",
        "- einen Boolean Wert, der angibt, ob die Kosten ausgegeben werden sollen.\n",
        "\n",
        "Die Funktion soll die gelernten Parameter zurückgeben."
      ]
    },
    {
      "cell_type": "code",
      "metadata": {
        "id": "qWdOQexofFvJ"
      },
      "source": [
        "def train_model(X, Y, layer_dims, activations, learning_rate = 0.0075, num_iterations = 3000, print_cost=False):\n",
        "    \"\"\"\n",
        "    Implements a two-layer neural network.\n",
        "    \n",
        "    Arguments:\n",
        "    X -- input data, of shape (n_x, number of examples)\n",
        "    Y -- true \"label\" vector (containing 1 if cat, 0 if non-cat), of shape (1, number of examples)\n",
        "    layers_dims -- dimensions of the layers (n_x, n_h, n_y)\n",
        "    activations -- activations of the layers (\"relu\", \"sigmoid\")\n",
        "    num_iterations -- number of iterations of the optimization loop\n",
        "    learning_rate -- learning rate of the gradient descent update rule\n",
        "    print_cost -- If set to True, this will print the cost every 100 iterations \n",
        "    \n",
        "    Returns:\n",
        "    parameters -- a dictionary containing W1, W2, b1, and b2\n",
        "    \"\"\"\n",
        "    \n",
        "    np.random.seed(1)\n",
        "    grads = {}\n",
        "    costs = []                                # to keep track of the cost\n",
        "    m = X.shape[1]                            # number of examples\n",
        "\n",
        "    # layer_dims = (number of features, dimension of the hidden layer, number of output neurons)\n",
        "    n_x, n_h, n_y = layer_dims   \n",
        "    # activations = (activation of layer 1, activation of layer 2)          \n",
        "    g1, g2 = activations\n",
        "\n",
        "    assert (n_x == X.shape[0])\n",
        "    assert (n_y == Y.shape[0])\n",
        "    \n",
        "    ### START HERE: Replace the \"None\" instances with your code ###\n",
        "    # Initialize parameters dictionary, by calling one of the functions you'd previously implemented\n",
        "    parameters = None\n",
        "    ### END CODE HERE ###\n",
        "    \n",
        "    # Get W1, b1, W2 and b2 from the dictionary parameters.\n",
        "    W1 = parameters[\"W1\"]\n",
        "    b1 = parameters[\"b1\"]\n",
        "    W2 = parameters[\"W2\"]\n",
        "    b2 = parameters[\"b2\"]\n",
        "    \n",
        "    # Loop (gradient descent)\n",
        "\n",
        "    for i in range(0, num_iterations):\n",
        "\n",
        "        ### START HERE: Replace the \"None\" instances with your code ###\n",
        "        # Forward propagation: LINEAR -> RELU -> LINEAR -> SIGMOID. Inputs: \"X, W1, b1, W2, b2\". Output: \"A1, cache1, A2, cache2\".\n",
        "        A1, cache1 = None\n",
        "        A2, cache2 = None\n",
        "        ### END CODE HERE ###\n",
        "        \n",
        "        # Compute cost\n",
        "        cost = None\n",
        "        ### END CODE HERE ###\n",
        "        \n",
        "        # Initializing backward propagation\n",
        "        dA2 = - (np.divide(Y, A2) - np.divide(1 - Y, 1 - A2))\n",
        "        \n",
        "        # Backward propagation. Inputs: \"dA2, cache2, cache1\". Outputs: \"dA1, dW2, db2; also dA0 (not used), dW1, db1\".\n",
        "        dA1, dW2, db2 = None\n",
        "        dA0, dW1, db1 = None\n",
        "        \n",
        "        # Set grads['dWl'] to dW1, grads['db1'] to db1, grads['dW2'] to dW2, grads['db2'] to db2\n",
        "        grads['dW1'] = dW1\n",
        "        grads['db1'] = db1\n",
        "        grads['dW2'] = dW2\n",
        "        grads['db2'] = db2\n",
        "        \n",
        "        # Update parameters.\n",
        "        parameters = None\n",
        "        \n",
        "        ### END CODE HERE ###\n",
        "\n",
        "        # Retrieve W1, b1, W2, b2 from parameters\n",
        "        W1 = parameters[\"W1\"]\n",
        "        b1 = parameters[\"b1\"]\n",
        "        W2 = parameters[\"W2\"]\n",
        "        b2 = parameters[\"b2\"]\n",
        "        \n",
        "        # Print the cost every 100 training example\n",
        "        if print_cost and i % 100 == 0:\n",
        "            print(\"Cost after iteration {}: {}\".format(i, np.squeeze(cost)))\n",
        "        if print_cost and i % 100 == 0:\n",
        "            costs.append(cost)\n",
        "       \n",
        "    # plot the cost\n",
        "\n",
        "    plt.plot(np.squeeze(costs))\n",
        "    plt.ylabel('cost')\n",
        "    plt.xlabel('iterations (per hundreds)')\n",
        "    plt.title(\"Learning rate =\" + str(learning_rate))\n",
        "    plt.show()\n",
        "    \n",
        "    return parameters\n",
        "\n",
        "    ### Q : What does np.divide do exactly?"
      ],
      "execution_count": null,
      "outputs": []
    },
    {
      "cell_type": "markdown",
      "metadata": {
        "id": "pmiJT1_WkgIc"
      },
      "source": [
        "### 10 - Das Training\n",
        "\n",
        "Trainieren Sie die Parameter und beobachten Sie, ob Ihr Modell tatsächlich lernt. Die Kosten sollen fallen. \n",
        "\n",
        "Die 2500 Iterationen können ca. 5 Minuten in Anspruch nehmen. Hätten Sie nicht die vektorisierte Implementierung genutzt, hätte es 10 mal so lange dauern können.\n",
        "\n",
        "Nach dem Training erhalten Sie die gelernten **Parameter** des zwei-schichtigen Neuronalen Netzes. Diese Parameter entsprechen Ihrer Hypothesenfunktion $h_{\\theta}(x)$."
      ]
    },
    {
      "cell_type": "code",
      "metadata": {
        "id": "jZOhCR96pMmn"
      },
      "source": [
        "# The following parameters determine the architecture of the network\n",
        "n_x = 12288     # 64 x 64 x 3\n",
        "n_h = 7\n",
        "n_y = 1\n",
        "layer_dims = (n_x, n_h, n_y)\n",
        "activations = (\"relu\", \"sigmoid\")"
      ],
      "execution_count": null,
      "outputs": []
    },
    {
      "cell_type": "code",
      "metadata": {
        "id": "SfnZT7BrjnQg",
        "colab": {
          "base_uri": "https://localhost:8080/",
          "height": 729
        },
        "outputId": "231c40df-ba1c-4460-f23a-da3d619f2e0a"
      },
      "source": [
        "model_1 = train_model(\n",
        "    train_set_x, train_set_y, \n",
        "    layer_dims = (n_x, n_h, n_y), \n",
        "    activations = (\"relu\", \"sigmoid\"),\n",
        "    num_iterations = 2500, #2500, \n",
        "    print_cost=True)"
      ],
      "execution_count": null,
      "outputs": [
        {
          "output_type": "stream",
          "text": [
            "Cost after iteration 0: 0.693049735659989\n",
            "Cost after iteration 100: 0.6464320953428849\n",
            "Cost after iteration 200: 0.6325140647912678\n",
            "Cost after iteration 300: 0.6015024920354665\n",
            "Cost after iteration 400: 0.5601966311605748\n",
            "Cost after iteration 500: 0.5158304772764731\n",
            "Cost after iteration 600: 0.47549013139433255\n",
            "Cost after iteration 700: 0.43391631512257495\n",
            "Cost after iteration 800: 0.4007977536203886\n",
            "Cost after iteration 900: 0.35807050113237976\n",
            "Cost after iteration 1000: 0.3394281538366413\n",
            "Cost after iteration 1100: 0.30527536361962654\n",
            "Cost after iteration 1200: 0.2749137728213016\n",
            "Cost after iteration 1300: 0.2468176821061484\n",
            "Cost after iteration 1400: 0.19850735037466105\n",
            "Cost after iteration 1500: 0.17448318112556638\n",
            "Cost after iteration 1600: 0.17080762978096967\n",
            "Cost after iteration 1700: 0.11306524562164705\n",
            "Cost after iteration 1800: 0.09629426845937154\n",
            "Cost after iteration 1900: 0.08342617959726867\n",
            "Cost after iteration 2000: 0.07439078704319087\n",
            "Cost after iteration 2100: 0.06630748132267934\n",
            "Cost after iteration 2200: 0.05919329501038172\n",
            "Cost after iteration 2300: 0.053361403485605606\n",
            "Cost after iteration 2400: 0.04855478562877019\n"
          ],
          "name": "stdout"
        },
        {
          "output_type": "display_data",
          "data": {
            "image/png": "[encoded data removed]",
            "text/plain": [
              "<Figure size 432x288 with 1 Axes>"
            ]
          },
          "metadata": {
            "tags": [],
            "needs_background": "light"
          }
        }
      ]
    },
    {
      "cell_type": "markdown",
      "metadata": {
        "id": "JLEivDUnj1_x"
      },
      "source": [
        "**Expected Output**:\n",
        "<table> \n",
        "    <tr>\n",
        "        <td> **Cost after iteration 0**</td>\n",
        "        <td> 0.6930497356599888 </td>\n",
        "    </tr>\n",
        "    <tr>\n",
        "        <td> **Cost after iteration 100**</td>\n",
        "        <td> 0.6464320953428849 </td>\n",
        "    </tr>\n",
        "    <tr>\n",
        "        <td> **...**</td>\n",
        "        <td> ... </td>\n",
        "    </tr>\n",
        "    <tr>\n",
        "        <td> **Cost after iteration 2400**</td>\n",
        "        <td> 0.048554785628770226 </td>\n",
        "    </tr>\n",
        "</table>"
      ]
    },
    {
      "cell_type": "code",
      "metadata": {
        "id": "B2ohnCpIj24x"
      },
      "source": [
        ""
      ],
      "execution_count": null,
      "outputs": []
    },
    {
      "cell_type": "markdown",
      "metadata": {
        "id": "MEEEaqvslaGO"
      },
      "source": [
        "### 11 - Vorhersagen Treffen ###\n",
        "\n",
        "Mit Hilfe der gelernet Parameter können nun die Klassen für neune Eingaben $X$ vorhergesagt werden.\n",
        "\n",
        "Implementieren Sie eine Funktion (`model_forward(X, Y, parameters)`), das die Eingabe $X$ übernimmt und die entsprechenden Ausgaben (Vorhersagen) berechnet und zurückliefert."
      ]
    },
    {
      "cell_type": "code",
      "metadata": {
        "id": "K-YsJC3UzpMj"
      },
      "source": [
        "def model_forward(X, parameters, activations):\n",
        "    \"\"\"\n",
        "    Implement forward propagation for the two layer neural network\n",
        "    \n",
        "    Arguments:\n",
        "    X -- data, numpy array of shape (input size, number of examples)\n",
        "    parameters -- output of initialize_parameters_deep()\n",
        "    \n",
        "    Returns:\n",
        "    AL -- last post-activation value\n",
        "    caches -- list of caches containing every cache of forward_step()\n",
        "    \"\"\"\n",
        "\n",
        "    caches = []\n",
        "    L = 2                  # number of layers in the neural network\n",
        "    g1, g2 = activations\n",
        "    ### START HERE: Replace the \"None\" instances with your code ###\n",
        "\n",
        "    # Implement [LINEAR -> RELU]*(L-1). Add \"cache\" to the \"caches\" list.\n",
        "    A, cache = None\n",
        "    caches.append(cache)\n",
        "    \n",
        "    AL, cache = None\n",
        "    caches.append(cache)\n",
        "    \n",
        "    ### END HERE ###\n",
        "    \n",
        "    assert(AL.shape == (1,X.shape[1]))\n",
        "            \n",
        "    return AL, caches"
      ],
      "execution_count": null,
      "outputs": []
    },
    {
      "cell_type": "code",
      "metadata": {
        "colab": {
          "base_uri": "https://localhost:8080/"
        },
        "id": "89MPrWYL2VQM",
        "outputId": "1fd27d34-f62b-4655-cb20-7dca43483668"
      },
      "source": [
        "# Calculate predictions for the test data\n",
        "probabilities, cache = model_forward(test_set_x, model_1, activations)\n",
        "print(probabilities[0,1:5])"
      ],
      "execution_count": null,
      "outputs": [
        {
          "output_type": "stream",
          "text": [
            "[0.96543173 0.93197208 0.95346393 0.91520565]\n"
          ],
          "name": "stdout"
        }
      ]
    },
    {
      "cell_type": "markdown",
      "metadata": {
        "id": "CAHLexjN5oEZ"
      },
      "source": [
        "### 12 - Performanzanalyse ##\n",
        "\n",
        "Implementieren Sie eine Funktion `test_predict(X, Y, parameters)`, das für die Eingabe $X$ die entsprechenden Vorhersagen und die Genauigkeit des Modells zurückliefert."
      ]
    },
    {
      "cell_type": "code",
      "metadata": {
        "id": "RuxCOaIpTl5S"
      },
      "source": [
        "def test_predict(X, Y, parameters, activations):\n",
        "    \"\"\"\n",
        "    This function is used to predict the results of a  2-layer neural network.\n",
        "    \n",
        "    Arguments:\n",
        "    X -- data set of examples you would like to label\n",
        "    Y -- true labels for the examples X\n",
        "    parameters -- parameters of the trained model\n",
        "    \n",
        "    Returns:\n",
        "    p -- predictions for the given dataset X\n",
        "    \"\"\"\n",
        "    \n",
        "    m = X.shape[1]\n",
        "    n = len(parameters) // 2 # number of layers in the neural network\n",
        "    p = np.zeros((1,m))\n",
        "    \n",
        "    ### START HERE: Replace the \"None\" instances with your code ###\n",
        "    # Forward propagation\n",
        "    probabilities, caches = None\n",
        "    ### END HERE ###\n",
        "    \n",
        "    # convert probas to 0/1 predictions\n",
        "    for i in range(0, probabilities.shape[1]):\n",
        "        if probabilities[0,i] > 0.5:\n",
        "            p[0,i] = 1\n",
        "        else:\n",
        "            p[0,i] = 0\n",
        "    \n",
        "    accuracy = np.sum((p == Y)/m)\n",
        "        \n",
        "    return (p, accuracy)"
      ],
      "execution_count": null,
      "outputs": []
    },
    {
      "cell_type": "code",
      "metadata": {
        "colab": {
          "base_uri": "https://localhost:8080/"
        },
        "id": "1hYf0KbjAX-B",
        "outputId": "43d9e99c-9f73-48d2-c982-3cf0bdcbb7c7"
      },
      "source": [
        "# Train set accuray of our model_1\n",
        "predictions, accuracy = test_predict(train_set_x, train_set_y, model_1, activations)\n",
        "print(\"Accuracy: \", accuracy)"
      ],
      "execution_count": null,
      "outputs": [
        {
          "output_type": "stream",
          "text": [
            "Accuracy:  0.9999999999999998\n"
          ],
          "name": "stdout"
        }
      ]
    },
    {
      "cell_type": "code",
      "metadata": {
        "id": "Gzc-46q-7AV_",
        "colab": {
          "base_uri": "https://localhost:8080/"
        },
        "outputId": "16932da1-4b91-4a9e-d972-e934fda26093"
      },
      "source": [
        "# Test set accuray of our model_1\n",
        "predictions_test, accuracy_test = test_predict(test_set_x, test_set_y, model_1, activations)\n",
        "print(\"Accuracy: \", accuracy_test)\n",
        "print(\"Predictions: \", predictions_test)\n",
        "print(\"True Labels: \", test_set_y)"
      ],
      "execution_count": null,
      "outputs": [
        {
          "output_type": "stream",
          "text": [
            "Accuracy:  0.72\n",
            "Predictions:  [[1. 1. 1. 1. 1. 1. 0. 1. 1. 1. 0. 1. 1. 1. 0. 1. 0. 1. 0. 0. 1. 0. 0. 1.\n",
            "  1. 1. 1. 0. 0. 1. 0. 1. 1. 1. 1. 0. 0. 1. 0. 0. 1. 0. 1. 0. 1. 1. 0. 1.\n",
            "  1. 0.]]\n",
            "True Labels:  [[1 1 1 1 1 0 1 1 1 1 1 1 1 0 0 1 0 1 1 1 1 0 0 1 1 1 1 0 1 0 1 1 1 1 0 0\n",
            "  0 1 0 0 1 1 1 0 0 0 1 1 1 0]]\n"
          ],
          "name": "stdout"
        }
      ]
    },
    {
      "cell_type": "code",
      "metadata": {
        "colab": {
          "base_uri": "https://localhost:8080/",
          "height": 216
        },
        "id": "-HYhjewF8EI-",
        "outputId": "4f4b7a80-035d-42bb-b64b-f8f2a8928ec7"
      },
      "source": [
        "#Plot some images where predictions and truth were different.\n",
        "p = predictions_test\n",
        "a = predictions_test + test_set_y\n",
        "mislabeled_indices = np.asarray(np.where(a == 1))\n",
        "X = test_set_x\n",
        "y = test_set_y\n",
        "\n",
        "plt.rcParams['figure.figsize'] = (40.0, 40.0)     # set default size of plots\n",
        "num_images = len(mislabeled_indices[0])\n",
        "for i in range(num_images):\n",
        "    index = mislabeled_indices[1][i]\n",
        "    plt.subplot(2, num_images, i + 1)\n",
        "    plt.imshow(X[:,index].reshape(64,64,3), interpolation='nearest')\n",
        "    plt.axis('off')\n",
        "    plt.title(\"Prediction: \" + classes[int(p[0,index])].decode(\"utf-8\") + \" \\n Class: \" + classes[y[0,index]].decode(\"utf-8\"))"
      ],
      "execution_count": null,
      "outputs": [
        {
          "output_type": "display_data",
          "data": {
            "image/png": "[encoded data removed]",
            "text/plain": [
              "<Figure size 2880x2880 with 14 Axes>"
            ]
          },
          "metadata": {
            "tags": [],
            "needs_background": "light"
          }
        }
      ]
    },
    {
      "cell_type": "code",
      "metadata": {
        "id": "B_O-XTbVDC6u"
      },
      "source": [
        ""
      ],
      "execution_count": null,
      "outputs": []
    }
  ]
}